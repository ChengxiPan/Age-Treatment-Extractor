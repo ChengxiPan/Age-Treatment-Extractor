{
 "cells": [
  {
   "cell_type": "code",
   "execution_count": 2,
   "metadata": {},
   "outputs": [
    {
     "name": "stdout",
     "output_type": "stream",
     "text": [
      "label\n",
      "O              3710099\n",
      "I-TREATMENT      28303\n",
      "B-TREATMENT       1171\n",
      "Name: count, dtype: int64 token    object\n",
      "label    object\n",
      "dtype: object\n"
     ]
    },
    {
     "data": {
      "text/html": [
       "<div>\n",
       "<style scoped>\n",
       "    .dataframe tbody tr th:only-of-type {\n",
       "        vertical-align: middle;\n",
       "    }\n",
       "\n",
       "    .dataframe tbody tr th {\n",
       "        vertical-align: top;\n",
       "    }\n",
       "\n",
       "    .dataframe thead th {\n",
       "        text-align: right;\n",
       "    }\n",
       "</style>\n",
       "<table border=\"1\" class=\"dataframe\">\n",
       "  <thead>\n",
       "    <tr style=\"text-align: right;\">\n",
       "      <th></th>\n",
       "      <th>token</th>\n",
       "      <th>label</th>\n",
       "    </tr>\n",
       "  </thead>\n",
       "  <tbody>\n",
       "    <tr>\n",
       "      <th>978859</th>\n",
       "      <td>injection</td>\n",
       "      <td>B-TREATMENT</td>\n",
       "    </tr>\n",
       "    <tr>\n",
       "      <th>3068274</th>\n",
       "      <td>physical</td>\n",
       "      <td>B-TREATMENT</td>\n",
       "    </tr>\n",
       "    <tr>\n",
       "      <th>1197045</th>\n",
       "      <td>anti</td>\n",
       "      <td>B-TREATMENT</td>\n",
       "    </tr>\n",
       "    <tr>\n",
       "      <th>2873753</th>\n",
       "      <td>[CLS]</td>\n",
       "      <td>I-TREATMENT</td>\n",
       "    </tr>\n",
       "    <tr>\n",
       "      <th>1682159</th>\n",
       "      <td>##vic</td>\n",
       "      <td>I-TREATMENT</td>\n",
       "    </tr>\n",
       "    <tr>\n",
       "      <th>...</th>\n",
       "      <td>...</td>\n",
       "      <td>...</td>\n",
       "    </tr>\n",
       "    <tr>\n",
       "      <th>951003</th>\n",
       "      <td>speech</td>\n",
       "      <td>B-TREATMENT</td>\n",
       "    </tr>\n",
       "    <tr>\n",
       "      <th>3068275</th>\n",
       "      <td>therapy</td>\n",
       "      <td>I-TREATMENT</td>\n",
       "    </tr>\n",
       "    <tr>\n",
       "      <th>3661476</th>\n",
       "      <td>cat</td>\n",
       "      <td>B-TREATMENT</td>\n",
       "    </tr>\n",
       "    <tr>\n",
       "      <th>517449</th>\n",
       "      <td>freed</td>\n",
       "      <td>O</td>\n",
       "    </tr>\n",
       "    <tr>\n",
       "      <th>963392</th>\n",
       "      <td>.</td>\n",
       "      <td>O</td>\n",
       "    </tr>\n",
       "  </tbody>\n",
       "</table>\n",
       "<p>3513 rows × 2 columns</p>\n",
       "</div>"
      ],
      "text/plain": [
       "             token        label\n",
       "978859   injection  B-TREATMENT\n",
       "3068274   physical  B-TREATMENT\n",
       "1197045       anti  B-TREATMENT\n",
       "2873753      [CLS]  I-TREATMENT\n",
       "1682159      ##vic  I-TREATMENT\n",
       "...            ...          ...\n",
       "951003      speech  B-TREATMENT\n",
       "3068275    therapy  I-TREATMENT\n",
       "3661476        cat  B-TREATMENT\n",
       "517449       freed            O\n",
       "963392           .            O\n",
       "\n",
       "[3513 rows x 2 columns]"
      ]
     },
     "execution_count": 2,
     "metadata": {},
     "output_type": "execute_result"
    }
   ],
   "source": [
    "import pandas as pd\n",
    "# Assuming data is in a CSV file, with 'question' and 'label' as columns\n",
    "df = pd.read_csv('bio_data.csv')\n",
    "\n",
    "# Check class distribution\n",
    "print(df['label'].value_counts(), df.dtypes)\n",
    "# Balance classes if needed\n",
    "df = df.groupby('label').sample(n=min(df['label'].value_counts()), random_state=42)\n",
    "# Shuffle the dataset\n",
    "df = df.sample(frac=1, random_state=42)\n",
    "df"
   ]
  },
  {
   "cell_type": "code",
   "execution_count": 3,
   "metadata": {},
   "outputs": [
    {
     "name": "stdout",
     "output_type": "stream",
     "text": [
      "int64\n"
     ]
    },
    {
     "data": {
      "text/plain": [
       "Index(['token', 'label'], dtype='object')"
      ]
     },
     "execution_count": 3,
     "metadata": {},
     "output_type": "execute_result"
    }
   ],
   "source": [
    "# Assuming your labels are categorical, you need to map them to integers\n",
    "df['label'] = df['label'].astype('category').cat.codes.astype('int64')\n",
    "print(df['label'].dtype)  # Should print 'int64'\n",
    "df.columns\n"
   ]
  },
  {
   "cell_type": "code",
   "execution_count": 4,
   "metadata": {},
   "outputs": [
    {
     "name": "stderr",
     "output_type": "stream",
     "text": [
      "/home/sweet/anaconda3/envs/urbannet/lib/python3.12/site-packages/tqdm/auto.py:21: TqdmWarning: IProgress not found. Please update jupyter and ipywidgets. See https://ipywidgets.readthedocs.io/en/stable/user_install.html\n",
      "  from .autonotebook import tqdm as notebook_tqdm\n",
      "/home/sweet/anaconda3/envs/urbannet/lib/python3.12/site-packages/transformers/tokenization_utils_base.py:1601: FutureWarning: `clean_up_tokenization_spaces` was not set. It will be set to `True` by default. This behavior will be depracted in transformers v4.45, and will be then set to `False` by default. For more details check this issue: https://github.com/huggingface/transformers/issues/31884\n",
      "  warnings.warn(\n"
     ]
    },
    {
     "data": {
      "text/plain": [
       "(tensor([[  101, 14546,   102,  ...,     0,     0,     0],\n",
       "         [  101,  2952,   102,  ...,     0,     0,     0],\n",
       "         [  101,  2848,   102,  ...,     0,     0,     0],\n",
       "         ...,\n",
       "         [  101,  5855,   102,  ...,     0,     0,     0],\n",
       "         [  101, 11485,   102,  ...,     0,     0,     0],\n",
       "         [  101,   119,   102,  ...,     0,     0,     0]]),\n",
       " tensor([[1, 1, 1,  ..., 0, 0, 0],\n",
       "         [1, 1, 1,  ..., 0, 0, 0],\n",
       "         [1, 1, 1,  ..., 0, 0, 0],\n",
       "         ...,\n",
       "         [1, 1, 1,  ..., 0, 0, 0],\n",
       "         [1, 1, 1,  ..., 0, 0, 0],\n",
       "         [1, 1, 1,  ..., 0, 0, 0]]))"
      ]
     },
     "execution_count": 4,
     "metadata": {},
     "output_type": "execute_result"
    }
   ],
   "source": [
    "from transformers import AutoTokenizer\n",
    "tokenizer = AutoTokenizer.from_pretrained('dmis-lab/biobert-v1.1')\n",
    "def encode_data(tokenizer, questions, max_length):\n",
    "    encoded = tokenizer.batch_encode_plus(\n",
    "        questions,\n",
    "        truncation=True,\n",
    "        padding='longest',\n",
    "        max_length=max_length,\n",
    "        return_tensors='pt'  # return PyTorch tensors\n",
    "    )\n",
    "    return encoded[\"input_ids\"], encoded[\"attention_mask\"]\n",
    "# Use an appropriate max_length \n",
    "input_ids, attention_mask = encode_data(tokenizer, df['token'].tolist(), max_length=128)\n",
    "input_ids, attention_mask"
   ]
  },
  {
   "cell_type": "code",
   "execution_count": 5,
   "metadata": {},
   "outputs": [
    {
     "name": "stderr",
     "output_type": "stream",
     "text": [
      "Some weights of BertForSequenceClassification were not initialized from the model checkpoint at dmis-lab/biobert-v1.1 and are newly initialized: ['classifier.bias', 'classifier.weight']\n",
      "You should probably TRAIN this model on a down-stream task to be able to use it for predictions and inference.\n"
     ]
    }
   ],
   "source": [
    "from transformers import AutoModelForSequenceClassification, Trainer, TrainingArguments\n",
    "\n",
    "# Load the pre-trained model\n",
    "model = AutoModelForSequenceClassification.from_pretrained('dmis-lab/biobert-v1.1', num_labels=3)\n",
    "# Define the training arguments\n",
    "training_args = TrainingArguments(\n",
    "    output_dir='./results',\n",
    "    num_train_epochs=5,    # number of training epochs\n",
    "    per_device_train_batch_size=16,\n",
    "    per_device_eval_batch_size=64,\n",
    "    warmup_steps=100,\n",
    "    weight_decay=0.01,\n",
    "    logging_dir='./logs',\n",
    ")"
   ]
  },
  {
   "cell_type": "code",
   "execution_count": 6,
   "metadata": {},
   "outputs": [
    {
     "data": {
      "text/html": [
       "\n",
       "    <div>\n",
       "      \n",
       "      <progress value='1100' max='1100' style='width:300px; height:20px; vertical-align: middle;'></progress>\n",
       "      [1100/1100 01:46, Epoch 5/5]\n",
       "    </div>\n",
       "    <table border=\"1\" class=\"dataframe\">\n",
       "  <thead>\n",
       " <tr style=\"text-align: left;\">\n",
       "      <th>Step</th>\n",
       "      <th>Training Loss</th>\n",
       "    </tr>\n",
       "  </thead>\n",
       "  <tbody>\n",
       "    <tr>\n",
       "      <td>500</td>\n",
       "      <td>0.600300</td>\n",
       "    </tr>\n",
       "    <tr>\n",
       "      <td>1000</td>\n",
       "      <td>0.375600</td>\n",
       "    </tr>\n",
       "  </tbody>\n",
       "</table><p>"
      ],
      "text/plain": [
       "<IPython.core.display.HTML object>"
      ]
     },
     "metadata": {},
     "output_type": "display_data"
    },
    {
     "data": {
      "text/plain": [
       "TrainOutput(global_step=1100, training_loss=0.4734121357310902, metrics={'train_runtime': 107.5179, 'train_samples_per_second': 163.368, 'train_steps_per_second': 10.231, 'total_flos': 63185762259270.0, 'train_loss': 0.4734121357310902, 'epoch': 5.0})"
      ]
     },
     "execution_count": 6,
     "metadata": {},
     "output_type": "execute_result"
    }
   ],
   "source": [
    "from datasets import Dataset\n",
    "\n",
    "train_dataset = Dataset.from_dict({\n",
    "    'input_ids': input_ids,\n",
    "    'attention_mask': attention_mask,\n",
    "    'labels': df['label']\n",
    "})\n",
    "\n",
    "trainer = Trainer(\n",
    "    model=model,\n",
    "    args=training_args,\n",
    "    train_dataset=train_dataset,\n",
    ")\n",
    "trainer.train()\n"
   ]
  },
  {
   "cell_type": "code",
   "execution_count": 7,
   "metadata": {},
   "outputs": [
    {
     "data": {
      "text/html": [
       "\n",
       "    <div>\n",
       "      \n",
       "      <progress value='1' max='55' style='width:300px; height:20px; vertical-align: middle;'></progress>\n",
       "      [ 1/55 : < :]\n",
       "    </div>\n",
       "    "
      ],
      "text/plain": [
       "<IPython.core.display.HTML object>"
      ]
     },
     "metadata": {},
     "output_type": "display_data"
    },
    {
     "data": {
      "text/plain": [
       "{'eval_loss': 0.2983037829399109,\n",
       " 'eval_runtime': 1.7012,\n",
       " 'eval_samples_per_second': 2065.058,\n",
       " 'eval_steps_per_second': 32.331,\n",
       " 'epoch': 5.0}"
      ]
     },
     "execution_count": 7,
     "metadata": {},
     "output_type": "execute_result"
    }
   ],
   "source": [
    "evaluation_results = trainer.evaluate(eval_dataset=train_dataset)\n",
    "evaluation_results"
   ]
  },
  {
   "cell_type": "code",
   "execution_count": 11,
   "metadata": {},
   "outputs": [
    {
     "name": "stderr",
     "output_type": "stream",
     "text": [
      "Some weights of BertForTokenClassification were not initialized from the model checkpoint at dmis-lab/biobert-v1.1 and are newly initialized: ['classifier.bias', 'classifier.weight']\n",
      "You should probably TRAIN this model on a down-stream task to be able to use it for predictions and inference.\n",
      "/home/sweet/anaconda3/envs/urbannet/lib/python3.12/site-packages/transformers/tokenization_utils_base.py:1601: FutureWarning: `clean_up_tokenization_spaces` was not set. It will be set to `True` by default. This behavior will be depracted in transformers v4.45, and will be then set to `False` by default. For more details check this issue: https://github.com/huggingface/transformers/issues/31884\n",
      "  warnings.warn(\n"
     ]
    },
    {
     "name": "stdout",
     "output_type": "stream",
     "text": [
      "tensor([[2, 1, 2, 2, 2, 2, 0, 0, 2, 2, 2, 2, 2, 2, 2, 2, 2, 2, 2, 2, 1, 2, 1, 2,\n",
      "         2]], device='cuda:0')\n"
     ]
    }
   ],
   "source": [
    "import torch\n",
    "from transformers import AutoTokenizer, AutoModelForTokenClassification\n",
    "\n",
    "# Load model and tokenizer\n",
    "model = AutoModelForTokenClassification.from_pretrained('dmis-lab/biobert-v1.1', num_labels=3)\n",
    "tokenizer = AutoTokenizer.from_pretrained('dmis-lab/biobert-v1.1')\n",
    "\n",
    "# Move model to GPU if available\n",
    "device = 'cuda' if torch.cuda.is_available() else 'cpu'\n",
    "model.to(device)\n",
    "\n",
    "# Example text\n",
    "text = \"The patient will receive intensity-modulated radiation therapy in order to deliver high-dose treatment to sensitive structures.\"\n",
    "\n",
    "# Tokenize input\n",
    "inputs = tokenizer(text, return_tensors=\"pt\")\n",
    "\n",
    "# Move inputs to GPU\n",
    "inputs = {k: v.to(device) for k, v in inputs.items()}\n",
    "\n",
    "# Predict\n",
    "outputs = model(**inputs)\n",
    "logits = outputs.logits\n",
    "\n",
    "# Get predictions\n",
    "predictions = logits.argmax(dim=-1)\n",
    "\n",
    "# Print predictions\n",
    "print(predictions)\n"
   ]
  }
 ],
 "metadata": {
  "kernelspec": {
   "display_name": "urbannet",
   "language": "python",
   "name": "python3"
  },
  "language_info": {
   "codemirror_mode": {
    "name": "ipython",
    "version": 3
   },
   "file_extension": ".py",
   "mimetype": "text/x-python",
   "name": "python",
   "nbconvert_exporter": "python",
   "pygments_lexer": "ipython3",
   "version": "3.12.3"
  }
 },
 "nbformat": 4,
 "nbformat_minor": 2
}
