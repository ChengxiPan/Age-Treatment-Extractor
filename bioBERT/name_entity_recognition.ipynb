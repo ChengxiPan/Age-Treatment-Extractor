{
 "cells": [
  {
   "cell_type": "code",
   "execution_count": 2,
   "metadata": {},
   "outputs": [
    {
     "name": "stderr",
     "output_type": "stream",
     "text": [
      "/home/sweet/anaconda3/envs/urbannet/lib/python3.12/site-packages/tqdm/auto.py:21: TqdmWarning: IProgress not found. Please update jupyter and ipywidgets. See https://ipywidgets.readthedocs.io/en/stable/user_install.html\n",
      "  from .autonotebook import tqdm as notebook_tqdm\n"
     ]
    }
   ],
   "source": [
    "import pandas as pd\n",
    "from datasets import Dataset\n",
    "import csv\n",
    "\n",
    "# 加载csv数据\n",
    "data = pd.read_csv(\"bio_data.csv\")\n",
    "data['token'] = data['token'].astype(str)\n",
    "data['label'] = data['label'].astype(str)\n",
    "\n",
    "# 将CSV数据转换为NER格式\n",
    "def prepare_ner_data(data):\n",
    "    ner_data = []\n",
    "    sentence = {\"tokens\": [], \"ner_tags\": []}\n",
    "    \n",
    "    for index, row in data.iterrows():\n",
    "        token = row['token']\n",
    "        label = row['label']\n",
    "        \n",
    "        # 每个句子可能以特殊标记结尾（比如 '[CLS]'），我们根据标记处理换行\n",
    "        if token == \"[CLS]\":\n",
    "            if sentence['tokens']:  # 如果当前句子不为空，保存该句子\n",
    "                ner_data.append(sentence)\n",
    "            sentence = {\"tokens\": [], \"ner_tags\": []}  # 开始新的句子\n",
    "        sentence['tokens'].append(token)\n",
    "        sentence['ner_tags'].append(label)\n",
    "    \n",
    "    if sentence['tokens']:  # 添加最后一个句子\n",
    "        ner_data.append(sentence)\n",
    "    \n",
    "    return ner_data\n",
    "\n",
    "ner_data = prepare_ner_data(data)\n",
    "dataset = Dataset.from_list(ner_data)\n"
   ]
  },
  {
   "cell_type": "code",
   "execution_count": 3,
   "metadata": {},
   "outputs": [
    {
     "name": "stdout",
     "output_type": "stream",
     "text": [
      "Label to ID mapping: {0: 'I-TREATMENT', 1: 'B-TREATMENT', 2: 'O'}\n"
     ]
    }
   ],
   "source": [
    "# 获取所有的唯一标签{'O': 0, 'I-TREATMENT': 1, 'B-TREATMENT': 2}\n",
    "unique_labels = list(set(data['label'].values))\n",
    "\n",
    "# 生成标签到数字的映射\n",
    "label2id = {label: i for i, label in enumerate(unique_labels)}\n",
    "id2label = {i: label for label, i in label2id.items()}\n",
    "\n",
    "print(\"Label to ID mapping:\", id2label)\n"
   ]
  },
  {
   "cell_type": "code",
   "execution_count": 3,
   "metadata": {},
   "outputs": [
    {
     "name": "stderr",
     "output_type": "stream",
     "text": [
      "/home/sweet/anaconda3/envs/urbannet/lib/python3.12/site-packages/transformers/tokenization_utils_base.py:1601: FutureWarning: `clean_up_tokenization_spaces` was not set. It will be set to `True` by default. This behavior will be depracted in transformers v4.45, and will be then set to `False` by default. For more details check this issue: https://github.com/huggingface/transformers/issues/31884\n",
      "  warnings.warn(\n",
      "Map: 100%|██████████| 4999/4999 [00:10<00:00, 489.93 examples/s]\n"
     ]
    }
   ],
   "source": [
    "from transformers import AutoTokenizer\n",
    "\n",
    "# 选择一个预训练的BERT模型\n",
    "model_name = \"bert-base-cased\"\n",
    "tokenizer = AutoTokenizer.from_pretrained(model_name)\n",
    "\n",
    "def tokenize_and_align_labels(examples):\n",
    "    # 添加padding=True和truncation=True来确保输入长度一致\n",
    "    tokenized_inputs = tokenizer(\n",
    "        examples[\"tokens\"],\n",
    "        truncation=True,  # 截断超过最大长度的输入\n",
    "        padding=True,  # 对输入进行padding以确保相同长度\n",
    "        is_split_into_words=True,  # 保证tokenizer知道输入是分词后的列表\n",
    "    )\n",
    "    \n",
    "    labels = []\n",
    "    for i, label in enumerate(examples[\"ner_tags\"]):\n",
    "        word_ids = tokenized_inputs.word_ids(batch_index=i)  # 获取每个token的word id\n",
    "        previous_word_idx = None\n",
    "        label_ids = []\n",
    "        \n",
    "        for word_idx in word_ids:\n",
    "            if word_idx is None:\n",
    "                label_ids.append(-100)  # 对padding部分不计算损失\n",
    "            elif word_idx != previous_word_idx:  # 只对第一个token进行标注\n",
    "                label_ids.append(label2id[label[word_idx]])\n",
    "            else:\n",
    "                label_ids.append(-100)  # 对子词进行忽略\n",
    "            previous_word_idx = word_idx\n",
    "\n",
    "        labels.append(label_ids)\n",
    "\n",
    "    tokenized_inputs[\"labels\"] = labels\n",
    "    return tokenized_inputs\n",
    "\n",
    "\n",
    "# 对数据集进行tokenization和标签对齐\n",
    "tokenized_datasets = dataset.map(tokenize_and_align_labels, batched=True)\n"
   ]
  },
  {
   "cell_type": "code",
   "execution_count": 4,
   "metadata": {},
   "outputs": [
    {
     "name": "stderr",
     "output_type": "stream",
     "text": [
      "Some weights of BertForTokenClassification were not initialized from the model checkpoint at bert-base-cased and are newly initialized: ['classifier.bias', 'classifier.weight']\n",
      "You should probably TRAIN this model on a down-stream task to be able to use it for predictions and inference.\n",
      "/home/sweet/anaconda3/envs/urbannet/lib/python3.12/site-packages/transformers/training_args.py:1525: FutureWarning: `evaluation_strategy` is deprecated and will be removed in version 4.46 of 🤗 Transformers. Use `eval_strategy` instead\n",
      "  warnings.warn(\n"
     ]
    },
    {
     "data": {
      "text/html": [
       "\n",
       "    <div>\n",
       "      \n",
       "      <progress value='939' max='939' style='width:300px; height:20px; vertical-align: middle;'></progress>\n",
       "      [939/939 53:13, Epoch 3/3]\n",
       "    </div>\n",
       "    <table border=\"1\" class=\"dataframe\">\n",
       "  <thead>\n",
       " <tr style=\"text-align: left;\">\n",
       "      <th>Step</th>\n",
       "      <th>Training Loss</th>\n",
       "    </tr>\n",
       "  </thead>\n",
       "  <tbody>\n",
       "    <tr>\n",
       "      <td>500</td>\n",
       "      <td>0.043700</td>\n",
       "    </tr>\n",
       "  </tbody>\n",
       "</table><p>"
      ],
      "text/plain": [
       "<IPython.core.display.HTML object>"
      ]
     },
     "metadata": {},
     "output_type": "display_data"
    },
    {
     "data": {
      "text/plain": [
       "TrainOutput(global_step=939, training_loss=0.03703850247481633, metrics={'train_runtime': 3195.5224, 'train_samples_per_second': 4.693, 'train_steps_per_second': 0.294, 'total_flos': 3918702889202688.0, 'train_loss': 0.03703850247481633, 'epoch': 3.0})"
      ]
     },
     "execution_count": 4,
     "metadata": {},
     "output_type": "execute_result"
    }
   ],
   "source": [
    "from transformers import AutoModelForTokenClassification, TrainingArguments, Trainer\n",
    "\n",
    "# 加载预训练的BERT模型\n",
    "model = AutoModelForTokenClassification.from_pretrained(model_name, num_labels=len(label2id))\n",
    "\n",
    "# 定义训练参数\n",
    "training_args = TrainingArguments(\n",
    "    output_dir=\"./results\",  # 模型保存路径\n",
    "    evaluation_strategy=\"no\",\n",
    "    learning_rate=2e-5,\n",
    "    per_device_train_batch_size=16,\n",
    "    per_device_eval_batch_size=16,\n",
    "    num_train_epochs=3,\n",
    "    weight_decay=0.01,\n",
    ")\n",
    "\n",
    "# 初始化Trainer\n",
    "trainer = Trainer(\n",
    "    model=model,\n",
    "    args=training_args,\n",
    "    train_dataset=tokenized_datasets,\n",
    "    tokenizer=tokenizer,\n",
    ")\n",
    "\n",
    "# 开始训练\n",
    "model.to('cuda')\n",
    "trainer.train()\n"
   ]
  },
  {
   "cell_type": "code",
   "execution_count": 7,
   "metadata": {},
   "outputs": [
    {
     "name": "stdout",
     "output_type": "stream",
     "text": [
      "[CLS]: O\n",
      "The: I-TREATMENT\n",
      "patient: O\n",
      "received: O\n",
      "radiation: O\n",
      "therapy: O\n",
      "for: O\n",
      "cancer: O\n",
      "treatment: O\n",
      ".: O\n",
      "[SEP]: I-TREATMENT\n"
     ]
    }
   ],
   "source": [
    "import torch\n",
    "\n",
    "def predict(text):\n",
    "    # 确保模型在GPU上\n",
    "    device = torch.device('cuda' if torch.cuda.is_available() else 'cpu')\n",
    "    model.to(device)\n",
    "    \n",
    "    # 对输入的文本进行tokenization\n",
    "    inputs = tokenizer(text.split(), return_tensors=\"pt\", truncation=True, is_split_into_words=True)\n",
    "    \n",
    "    # 将输入数据移到GPU上\n",
    "    inputs = {key: value.to(device) for key, value in inputs.items()}\n",
    "    \n",
    "    # 获取模型的预测结果\n",
    "    with torch.no_grad():\n",
    "        outputs = model(**inputs)\n",
    "    \n",
    "    # 处理预测结果\n",
    "    predictions = outputs.logits.argmax(dim=2)\n",
    "    predicted_labels = [id2label[prediction.item()] for prediction in predictions[0].cpu().numpy()]\n",
    "    tokens = tokenizer.convert_ids_to_tokens(inputs[\"input_ids\"][0].cpu())\n",
    "    \n",
    "    return list(zip(tokens, predicted_labels))\n",
    "\n",
    "# 示例预测\n",
    "text = \"The patient received radiation therapy for cancer treatment.\"\n",
    "predictions = predict(text)\n",
    "for token, label in predictions:\n",
    "    print(f\"{token}: {label}\")\n"
   ]
  },
  {
   "cell_type": "code",
   "execution_count": 10,
   "metadata": {},
   "outputs": [
    {
     "name": "stdout",
     "output_type": "stream",
     "text": [
      "[]\n"
     ]
    }
   ],
   "source": [
    "from transformers import AutoModelForTokenClassification, AutoTokenizer\n",
    "import torch\n",
    "\n",
    "checkpoint_path = \"./results/checkpoint-6000\"\n",
    "model = AutoModelForTokenClassification.from_pretrained(checkpoint_path)\n",
    "tokenizer = AutoTokenizer.from_pretrained(checkpoint_path)\n",
    "\n",
    "# 确保模型在GPU上\n",
    "device = torch.device('cuda' if torch.cuda.is_available() else 'cpu')\n",
    "model.to(device)\n",
    "\n",
    "def predict(text):\n",
    "    # 对输入的文本进行tokenization\n",
    "    inputs = tokenizer(text.split(), return_tensors=\"pt\", truncation=True, is_split_into_words=True)\n",
    "    \n",
    "    # 将输入数据移到GPU上\n",
    "    inputs = {key: value.to(device) for key, value in inputs.items()}\n",
    "    \n",
    "    # 获取模型的预测结果\n",
    "    with torch.no_grad():\n",
    "        outputs = model(**inputs)\n",
    "    \n",
    "    # 处理预测结果\n",
    "    predictions = outputs.logits.argmax(dim=2)\n",
    "    predicted_labels = [id2label[prediction.item()] for prediction in predictions[0].cpu().numpy()]\n",
    "    tokens = tokenizer.convert_ids_to_tokens(inputs[\"input_ids\"][0].cpu())\n",
    "    \n",
    "    # 筛选出标签为B-TREATMENT的内容\n",
    "    result = [(token, label) for token, label in zip(tokens, predicted_labels) if label == 'B-TREATMENT']\n",
    "    \n",
    "    return result\n",
    "\n",
    "# 示例预测\n",
    "text = \"The patient received radiation therapy for cancer treatment.\"\n",
    "predictions = predict(text)\n",
    "print(predictions)\n"
   ]
  },
  {
   "cell_type": "code",
   "execution_count": null,
   "metadata": {},
   "outputs": [],
   "source": []
  }
 ],
 "metadata": {
  "kernelspec": {
   "display_name": "urbannet",
   "language": "python",
   "name": "python3"
  },
  "language_info": {
   "codemirror_mode": {
    "name": "ipython",
    "version": 3
   },
   "file_extension": ".py",
   "mimetype": "text/x-python",
   "name": "python",
   "nbconvert_exporter": "python",
   "pygments_lexer": "ipython3",
   "version": "3.12.3"
  }
 },
 "nbformat": 4,
 "nbformat_minor": 2
}
